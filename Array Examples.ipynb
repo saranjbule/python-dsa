{
 "cells": [
  {
   "cell_type": "code",
   "execution_count": 3,
   "metadata": {},
   "outputs": [],
   "source": [
    "x = [0, 1, 1, 1.2, 2, 2, 3, 4, 4, 5, 5, 7]"
   ]
  },
  {
   "cell_type": "code",
   "execution_count": 4,
   "metadata": {},
   "outputs": [],
   "source": [
    "l = len(x)"
   ]
  },
  {
   "cell_type": "markdown",
   "metadata": {},
   "source": [
    "<h3>Find Unique Element in a Sorted Array"
   ]
  },
  {
   "cell_type": "code",
   "execution_count": 5,
   "metadata": {},
   "outputs": [
    {
     "name": "stdout",
     "output_type": "stream",
     "text": [
      "0\n",
      "1.2\n",
      "3\n",
      "7\n"
     ]
    }
   ],
   "source": [
    "if l == 1:\n",
    "    print(x[0])\n",
    "else:\n",
    "    for i in range(l):\n",
    "        if i == 0:\n",
    "            if x[i] != x[i+1]:\n",
    "                print(x[i])\n",
    "        elif i == l-1:\n",
    "            if x[i] != x[i-1]:\n",
    "                print(x[i])\n",
    "        elif x[i-1] != x[i] and x[i] != x[i+1]:\n",
    "            print(x[i])"
   ]
  },
  {
   "cell_type": "markdown",
   "metadata": {},
   "source": [
    "Time Complexity : O(n)"
   ]
  },
  {
   "cell_type": "markdown",
   "metadata": {},
   "source": [
    "<h3>Rotate Array for n times"
   ]
  },
  {
   "cell_type": "code",
   "execution_count": 22,
   "metadata": {},
   "outputs": [],
   "source": [
    "x = [1, 2, 3]\n",
    "l = len(x)"
   ]
  },
  {
   "cell_type": "markdown",
   "metadata": {},
   "source": [
    "Approach 1"
   ]
  },
  {
   "cell_type": "code",
   "execution_count": 20,
   "metadata": {},
   "outputs": [],
   "source": [
    "n = 2\n",
    "\n",
    "while n:\n",
    "    for i in range(l-1):\n",
    "        x[i], x[i+1] = x[i+1], x[i]\n",
    "\n",
    "    n -= 1"
   ]
  },
  {
   "cell_type": "code",
   "execution_count": 21,
   "metadata": {},
   "outputs": [
    {
     "data": {
      "text/plain": [
       "[3, 1, 2]"
      ]
     },
     "execution_count": 21,
     "metadata": {},
     "output_type": "execute_result"
    }
   ],
   "source": [
    "x"
   ]
  },
  {
   "cell_type": "markdown",
   "metadata": {},
   "source": [
    "- N < len(Arr) if N = 3, i.e., 1, 2 possible patterns ( n pattern and 0 shift patterns are same as original array )\n",
    "- if N >= len(Arr) then N%len(Arr) as if N = 23 & l = 3, 23%3 = 2\n",
    "- Total pattern are len(arr)-1"
   ]
  },
  {
   "cell_type": "markdown",
   "metadata": {},
   "source": [
    "Time Complexity : O(n^n-1)"
   ]
  },
  {
   "cell_type": "markdown",
   "metadata": {},
   "source": [
    "Approach 2"
   ]
  },
  {
   "cell_type": "code",
   "execution_count": 23,
   "metadata": {},
   "outputs": [],
   "source": [
    "n = 2"
   ]
  },
  {
   "cell_type": "code",
   "execution_count": 24,
   "metadata": {},
   "outputs": [
    {
     "data": {
      "text/plain": [
       "[3, 2, 1]"
      ]
     },
     "execution_count": 24,
     "metadata": {},
     "output_type": "execute_result"
    }
   ],
   "source": [
    "x.reverse()\n",
    "x"
   ]
  },
  {
   "cell_type": "code",
   "execution_count": 25,
   "metadata": {},
   "outputs": [],
   "source": [
    "a1 = x[:l-n]\n",
    "a2 = x[l-n:]"
   ]
  },
  {
   "cell_type": "code",
   "execution_count": 26,
   "metadata": {},
   "outputs": [
    {
     "data": {
      "text/plain": [
       "([3], [2, 1])"
      ]
     },
     "execution_count": 26,
     "metadata": {},
     "output_type": "execute_result"
    }
   ],
   "source": [
    "a1, a2"
   ]
  },
  {
   "cell_type": "code",
   "execution_count": 27,
   "metadata": {},
   "outputs": [],
   "source": [
    "x = a1[::-1] + a2[::-1]"
   ]
  },
  {
   "cell_type": "code",
   "execution_count": 28,
   "metadata": {},
   "outputs": [
    {
     "data": {
      "text/plain": [
       "[3, 1, 2]"
      ]
     },
     "execution_count": 28,
     "metadata": {},
     "output_type": "execute_result"
    }
   ],
   "source": [
    "x"
   ]
  },
  {
   "cell_type": "markdown",
   "metadata": {},
   "source": [
    "Time Complexity : O(n)"
   ]
  },
  {
   "cell_type": "markdown",
   "metadata": {},
   "source": [
    "- Clockwise Rotation : 1. Reverse 2. Partition into two parts and reverse partitions\n",
    "- Anti-clockwise Rotation : 1. Partition into two parts and reverse partitions 2. Reverse"
   ]
  },
  {
   "cell_type": "markdown",
   "metadata": {},
   "source": [
    "<h3>Array Intersection"
   ]
  },
  {
   "cell_type": "code",
   "execution_count": 5,
   "metadata": {},
   "outputs": [],
   "source": [
    "arr1 = [9, 2, 4, 5, 2, 8, 1]\n",
    "arr2 = [8, 5, 3, 6, 1, 3]\n",
    "\n",
    "arr1.sort()\n",
    "arr2.sort()"
   ]
  },
  {
   "cell_type": "markdown",
   "metadata": {},
   "source": [
    "Approach 1"
   ]
  },
  {
   "cell_type": "code",
   "execution_count": 8,
   "metadata": {},
   "outputs": [],
   "source": [
    "def intersection(a1, a2):\n",
    "    print(a1, a2)\n",
    "    ans = []\n",
    "\n",
    "    l1, l2 = len(a1), len(a2)\n",
    "    s1 = s2 = 0\n",
    "\n",
    "    while s1 < l1 and s2 < l2:\n",
    "        if a1[s1] < a2[s2]:\n",
    "            s1 += 1\n",
    "        elif a1[s1] > a2[s2]:\n",
    "            s2 += 1\n",
    "        else:\n",
    "            ans.append(a1[s1])\n",
    "            s1 += 1\n",
    "            s2 += 1\n",
    "\n",
    "\n",
    "    return ans"
   ]
  },
  {
   "cell_type": "code",
   "execution_count": 9,
   "metadata": {},
   "outputs": [
    {
     "name": "stdout",
     "output_type": "stream",
     "text": [
      "[1, 2, 2, 4, 5, 8, 9] [1, 3, 3, 5, 6, 8]\n"
     ]
    },
    {
     "data": {
      "text/plain": [
       "[1, 5, 8]"
      ]
     },
     "execution_count": 9,
     "metadata": {},
     "output_type": "execute_result"
    }
   ],
   "source": [
    "intersection(arr1, arr2)"
   ]
  },
  {
   "cell_type": "markdown",
   "metadata": {},
   "source": [
    "Time complexity : O(nLogn) [ Sorting the array 1 ] + O(mlogm) [ Sorting the array 2 ] + O(m) [ Scanning the array 1] + O(n) [ Scanning the array 2]"
   ]
  },
  {
   "cell_type": "markdown",
   "metadata": {},
   "source": [
    "Approach 2"
   ]
  },
  {
   "cell_type": "code",
   "execution_count": 8,
   "metadata": {},
   "outputs": [
    {
     "data": {
      "text/plain": [
       "[8, 5, 1]"
      ]
     },
     "execution_count": 8,
     "metadata": {},
     "output_type": "execute_result"
    }
   ],
   "source": [
    "hashMap = {}\n",
    "\n",
    "# only need to store element of minimum array\n",
    "if len(a1) < len(a2):\n",
    "    mini = a1\n",
    "    large = a2\n",
    "else:\n",
    "    large = a1\n",
    "    mini = a2\n",
    "\n",
    "for i in mini:\n",
    "    hashMap[i] = False\n",
    "\n",
    "for i in large:\n",
    "    if i in hashMap:\n",
    "        hashMap[i] = True\n",
    "\n",
    "[k for k, v in hashMap.items() if v]"
   ]
  },
  {
   "cell_type": "markdown",
   "metadata": {},
   "source": [
    "Time Complexity : O(n + m)"
   ]
  },
  {
   "cell_type": "markdown",
   "metadata": {},
   "source": [
    "<h3>Equilibrium Index\n"
   ]
  },
  {
   "cell_type": "code",
   "execution_count": 34,
   "metadata": {},
   "outputs": [],
   "source": [
    "arr1 = [10, 20, 10, 5, 15, 10]\n",
    "arr2 = [2, 3, 10, -10, 4, 2, 9]"
   ]
  },
  {
   "cell_type": "code",
   "execution_count": 35,
   "metadata": {},
   "outputs": [],
   "source": [
    "def equilibriumIndex(arr):\n",
    "    l = 0\n",
    "    r = sum(arr)\n",
    "    ans = []\n",
    "\n",
    "    for i in arr:\n",
    "        r -= i\n",
    "\n",
    "        if l == r:\n",
    "            ans.append(i)\n",
    "\n",
    "        l += i\n",
    "\n",
    "    return ans"
   ]
  },
  {
   "cell_type": "code",
   "execution_count": 36,
   "metadata": {},
   "outputs": [
    {
     "data": {
      "text/plain": [
       "[10]"
      ]
     },
     "execution_count": 36,
     "metadata": {},
     "output_type": "execute_result"
    }
   ],
   "source": [
    "equilibriumIndex(arr1)"
   ]
  },
  {
   "cell_type": "code",
   "execution_count": 37,
   "metadata": {},
   "outputs": [
    {
     "data": {
      "text/plain": [
       "[10, -10, 2]"
      ]
     },
     "execution_count": 37,
     "metadata": {},
     "output_type": "execute_result"
    }
   ],
   "source": [
    "equilibriumIndex(arr2)"
   ]
  },
  {
   "cell_type": "markdown",
   "metadata": {},
   "source": [
    "<h3>List Flattening"
   ]
  },
  {
   "cell_type": "code",
   "execution_count": 15,
   "metadata": {},
   "outputs": [],
   "source": [
    "arr = [[1, 2, 3], [[1, 2], [1], [[[], [2]], 2]]]\n",
    "arr2 = [[1, 4, 5], 19]"
   ]
  },
  {
   "cell_type": "code",
   "execution_count": 16,
   "metadata": {},
   "outputs": [],
   "source": [
    "def listFlattening(a, ans=None):\n",
    "    if ans is None:\n",
    "        ans = []\n",
    "\n",
    "    for i in a:\n",
    "        if isinstance(i, list):\n",
    "            listFlattening(i, ans)\n",
    "        else:\n",
    "            ans.append(i)\n",
    "\n",
    "    return ans"
   ]
  },
  {
   "cell_type": "code",
   "execution_count": 14,
   "metadata": {},
   "outputs": [
    {
     "data": {
      "text/plain": [
       "[1, 2, 3, 1, 2, 1, 2, 2]"
      ]
     },
     "execution_count": 14,
     "metadata": {},
     "output_type": "execute_result"
    }
   ],
   "source": [
    "listFlattening(arr)"
   ]
  },
  {
   "cell_type": "code",
   "execution_count": 17,
   "metadata": {},
   "outputs": [
    {
     "data": {
      "text/plain": [
       "[1, 4, 5, 19]"
      ]
     },
     "execution_count": 17,
     "metadata": {},
     "output_type": "execute_result"
    }
   ],
   "source": [
    "listFlattening(arr2)"
   ]
  }
 ],
 "metadata": {
  "kernelspec": {
   "display_name": "Python 3",
   "language": "python",
   "name": "python3"
  },
  "language_info": {
   "codemirror_mode": {
    "name": "ipython",
    "version": 3
   },
   "file_extension": ".py",
   "mimetype": "text/x-python",
   "name": "python",
   "nbconvert_exporter": "python",
   "pygments_lexer": "ipython3",
   "version": "3.10.12"
  }
 },
 "nbformat": 4,
 "nbformat_minor": 2
}
